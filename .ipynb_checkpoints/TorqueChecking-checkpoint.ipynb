{
 "cells": [
  {
   "cell_type": "code",
   "execution_count": 1,
   "metadata": {},
   "outputs": [],
   "source": [
    "from matplotlib import ticker\n",
    "from matplotlib import colors\n",
    "import os\n",
    "import sys\n",
    "import numpy as np\n",
    "import matplotlib as mpl\n",
    "import matplotlib.pyplot as plt\n",
    "from mpl_styles import analytic\n",
    "import yt\n",
    "sys.path.insert(0, \"/home/astrosun/jtlaune/athena/vis/python/\")\n",
    "import athena_read as athr"
   ]
  },
  {
   "cell_type": "code",
   "execution_count": 2,
   "metadata": {},
   "outputs": [],
   "source": [
    "filename = \"/home/astrosun/jtlaune/Type1BCs/type1_rst_acc/ppd_cyl.out1.02000.athdf\"\n",
    "ds_raw = athr.athdf(\n",
    "    filename,\n",
    "    raw=True,\n",
    ")"
   ]
  },
  {
   "cell_type": "code",
   "execution_count": 12,
   "metadata": {},
   "outputs": [
    {
     "name": "stdout",
     "output_type": "stream",
     "text": [
      "(996, 16)\n",
      "(996, 32)\n",
      "(996, 1, 32, 16)\n",
      "[b'dens' b'mom1' b'mom2' b'mom3']\n"
     ]
    }
   ],
   "source": [
    "print(ds_raw[\"x1v\"].shape)\n",
    "print(ds_raw[\"x2v\"].shape)\n",
    "print(ds_raw[\"mom1\"].shape)\n",
    "print(ds_raw[\"VariableNames\"])"
   ]
  },
  {
   "cell_type": "code",
   "execution_count": 19,
   "metadata": {},
   "outputs": [
    {
     "name": "stdout",
     "output_type": "stream",
     "text": [
      "0.4023483 0.40703574 -3.1395473 -3.1354568\n",
      "0.0046874285 0.0040905476\n"
     ]
    }
   ],
   "source": [
    "x11 = ds_raw[\"x1v\"][0,0]\n",
    "x12 = ds_raw[\"x1v\"][0,1]\n",
    "x21 = ds_raw[\"x2v\"][0,0]\n",
    "x22 = ds_raw[\"x2v\"][0,1]\n",
    "print(x11,x12,x21,x22)\n",
    "dx1 = np.abs(x11-x12)\n",
    "dx2 = np.abs(x21-x22)\n",
    "print(dx1,dx2)"
   ]
  },
  {
   "cell_type": "code",
   "execution_count": 22,
   "metadata": {},
   "outputs": [],
   "source": [
    "q = 5e-5\n",
    "GFx = 0\n",
    "GFy = 0\n",
    "r_excl = 0.0\n",
    "eps = 0.0\n",
    "for imb in range(ds_raw[\"NumMeshBlocks\"]):\n",
    "    x11 = ds_raw[\"x1v\"][imb, 0]\n",
    "    x12 = ds_raw[\"x1v\"][imb, 1]\n",
    "    x21 = ds_raw[\"x2v\"][imb, 0]\n",
    "    x22 = ds_raw[\"x2v\"][imb, 1]\n",
    "    dx1 = np.abs(x11 - x12)\n",
    "    dx2 = np.abs(x21 - x22)\n",
    "    for ix2v in range(ds_raw[\"x2v\"].shape[1]):\n",
    "        for ix1v in range(ds_raw[\"x1v\"].shape[1]):\n",
    "            x1 = ds_raw[\"x1v\"][imb, ix1v]\n",
    "            x2 = ds_raw[\"x2v\"][imb, ix2v]\n",
    "            sig = ds_raw[\"dens\"][imb, 0, ix2v, ix1v]\n",
    "            dA = x1 * dx1 * dx2\n",
    "            dm = sig * dA\n",
    "            x = x1 * np.cos(x2)\n",
    "            y = x1 * np.sin(x2)\n",
    "            rsecn = np.sqrt(x1**2 + 1 - 2 * x1 * np.cos(x2))\n",
    "            rsoft = np.sqrt(rsecn**2 + eps**2)\n",
    "            GF = dm*q/rsoft/rsoft/rsoft\n",
    "            if rsecn > r_excl:\n",
    "                GFy += GF*y\n",
    "                GFx += GF*(x-1)"
   ]
  },
  {
   "cell_type": "code",
   "execution_count": 23,
   "metadata": {},
   "outputs": [
    {
     "data": {
      "text/plain": [
       "2.7158832612778783e-06"
      ]
     },
     "execution_count": 23,
     "metadata": {},
     "output_type": "execute_result"
    }
   ],
   "source": [
    "GFy"
   ]
  },
  {
   "cell_type": "code",
   "execution_count": 24,
   "metadata": {},
   "outputs": [
    {
     "ename": "KeyboardInterrupt",
     "evalue": "",
     "output_type": "error",
     "traceback": [
      "\u001b[0;31m---------------------------------------------------------------------------\u001b[0m",
      "\u001b[0;31mKeyboardInterrupt\u001b[0m                         Traceback (most recent call last)",
      "Cell \u001b[0;32mIn[24], line 2\u001b[0m\n\u001b[1;32m      1\u001b[0m file \u001b[39m=\u001b[39m \u001b[39m\"\u001b[39m\u001b[39m/home/astrosun/jtlaune/Type1BCs/type1_rst_acc/ppd_cyl.hst\u001b[39m\u001b[39m\"\u001b[39m\n\u001b[0;32m----> 2\u001b[0m hst \u001b[39m=\u001b[39m np\u001b[39m.\u001b[39mloadtxt(file)\n",
      "File \u001b[0;32m~/opt/miniconda3/envs/py311/lib/python3.11/site-packages/numpy/lib/npyio.py:1356\u001b[0m, in \u001b[0;36mloadtxt\u001b[0;34m(fname, dtype, comments, delimiter, converters, skiprows, usecols, unpack, ndmin, encoding, max_rows, quotechar, like)\u001b[0m\n\u001b[1;32m   1353\u001b[0m \u001b[39mif\u001b[39;00m \u001b[39misinstance\u001b[39m(delimiter, \u001b[39mbytes\u001b[39m):\n\u001b[1;32m   1354\u001b[0m     delimiter \u001b[39m=\u001b[39m delimiter\u001b[39m.\u001b[39mdecode(\u001b[39m'\u001b[39m\u001b[39mlatin1\u001b[39m\u001b[39m'\u001b[39m)\n\u001b[0;32m-> 1356\u001b[0m arr \u001b[39m=\u001b[39m _read(fname, dtype\u001b[39m=\u001b[39mdtype, comment\u001b[39m=\u001b[39mcomment, delimiter\u001b[39m=\u001b[39mdelimiter,\n\u001b[1;32m   1357\u001b[0m             converters\u001b[39m=\u001b[39mconverters, skiplines\u001b[39m=\u001b[39mskiprows, usecols\u001b[39m=\u001b[39musecols,\n\u001b[1;32m   1358\u001b[0m             unpack\u001b[39m=\u001b[39munpack, ndmin\u001b[39m=\u001b[39mndmin, encoding\u001b[39m=\u001b[39mencoding,\n\u001b[1;32m   1359\u001b[0m             max_rows\u001b[39m=\u001b[39mmax_rows, quote\u001b[39m=\u001b[39mquotechar)\n\u001b[1;32m   1361\u001b[0m \u001b[39mreturn\u001b[39;00m arr\n",
      "File \u001b[0;32m~/opt/miniconda3/envs/py311/lib/python3.11/site-packages/numpy/lib/npyio.py:999\u001b[0m, in \u001b[0;36m_read\u001b[0;34m(fname, delimiter, comment, quote, imaginary_unit, usecols, skiplines, max_rows, converters, ndmin, unpack, dtype, encoding)\u001b[0m\n\u001b[1;32m    996\u001b[0m     data \u001b[39m=\u001b[39m _preprocess_comments(data, comments, encoding)\n\u001b[1;32m    998\u001b[0m \u001b[39mif\u001b[39;00m read_dtype_via_object_chunks \u001b[39mis\u001b[39;00m \u001b[39mNone\u001b[39;00m:\n\u001b[0;32m--> 999\u001b[0m     arr \u001b[39m=\u001b[39m _load_from_filelike(\n\u001b[1;32m   1000\u001b[0m         data, delimiter\u001b[39m=\u001b[39mdelimiter, comment\u001b[39m=\u001b[39mcomment, quote\u001b[39m=\u001b[39mquote,\n\u001b[1;32m   1001\u001b[0m         imaginary_unit\u001b[39m=\u001b[39mimaginary_unit,\n\u001b[1;32m   1002\u001b[0m         usecols\u001b[39m=\u001b[39musecols, skiplines\u001b[39m=\u001b[39mskiplines, max_rows\u001b[39m=\u001b[39mmax_rows,\n\u001b[1;32m   1003\u001b[0m         converters\u001b[39m=\u001b[39mconverters, dtype\u001b[39m=\u001b[39mdtype,\n\u001b[1;32m   1004\u001b[0m         encoding\u001b[39m=\u001b[39mencoding, filelike\u001b[39m=\u001b[39mfilelike,\n\u001b[1;32m   1005\u001b[0m         byte_converters\u001b[39m=\u001b[39mbyte_converters)\n\u001b[1;32m   1007\u001b[0m \u001b[39melse\u001b[39;00m:\n\u001b[1;32m   1008\u001b[0m     \u001b[39m# This branch reads the file into chunks of object arrays and then\u001b[39;00m\n\u001b[1;32m   1009\u001b[0m     \u001b[39m# casts them to the desired actual dtype.  This ensures correct\u001b[39;00m\n\u001b[1;32m   1010\u001b[0m     \u001b[39m# string-length and datetime-unit discovery (like `arr.astype()`).\u001b[39;00m\n\u001b[1;32m   1011\u001b[0m     \u001b[39m# Due to chunking, certain error reports are less clear, currently.\u001b[39;00m\n\u001b[1;32m   1012\u001b[0m     \u001b[39mif\u001b[39;00m filelike:\n",
      "File \u001b[0;32m<frozen codecs>:331\u001b[0m, in \u001b[0;36mgetstate\u001b[0;34m(self)\u001b[0m\n",
      "\u001b[0;31mKeyboardInterrupt\u001b[0m: "
     ]
    }
   ],
   "source": [
    "file = \"/home/astrosun/jtlaune/Type1BCs/type1_rst_acc/ppd_cyl.hst\"\n",
    "hst = np.loadtxt(file)"
   ]
  },
  {
   "cell_type": "code",
   "execution_count": null,
   "metadata": {},
   "outputs": [],
   "source": []
  }
 ],
 "metadata": {
  "kernelspec": {
   "display_name": "py311",
   "language": "python",
   "name": "python3"
  },
  "language_info": {
   "codemirror_mode": {
    "name": "ipython",
    "version": 3
   },
   "file_extension": ".py",
   "mimetype": "text/x-python",
   "name": "python",
   "nbconvert_exporter": "python",
   "pygments_lexer": "ipython3",
   "version": "3.11.3"
  },
  "orig_nbformat": 4
 },
 "nbformat": 4,
 "nbformat_minor": 2
}
