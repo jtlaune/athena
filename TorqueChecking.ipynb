{
 "cells": [
  {
   "cell_type": "code",
   "execution_count": 2,
   "metadata": {},
   "outputs": [],
   "source": [
    "from matplotlib import ticker\n",
    "from matplotlib import colors\n",
    "import os\n",
    "import sys\n",
    "import numpy as np\n",
    "import matplotlib as mpl\n",
    "import matplotlib.pyplot as plt\n",
    "from mpl_styles import analytic\n",
    "sys.path.insert(0, \"/home/astrosun/jtlaune/athena/vis/python/\")\n",
    "import athena_read as athr"
   ]
  },
  {
   "cell_type": "code",
   "execution_count": 3,
   "metadata": {},
   "outputs": [],
   "source": [
    "filename = \"/home/astrosun/jtlaune/Type1BCs/type1_rst_acc/ppd_cyl.out1.02000.athdf\"\n",
    "ds_raw = athr.athdf(\n",
    "    filename,\n",
    "    raw=True,\n",
    ")"
   ]
  },
  {
   "cell_type": "code",
   "execution_count": 4,
   "metadata": {},
   "outputs": [
    {
     "name": "stdout",
     "output_type": "stream",
     "text": [
      "(996, 16)\n",
      "(996, 32)\n",
      "(996, 1, 32, 16)\n",
      "[b'dens' b'mom1' b'mom2' b'mom3']\n"
     ]
    }
   ],
   "source": [
    "print(ds_raw[\"x1v\"].shape)\n",
    "print(ds_raw[\"x2v\"].shape)\n",
    "print(ds_raw[\"mom1\"].shape)\n",
    "print(ds_raw[\"VariableNames\"])"
   ]
  },
  {
   "cell_type": "code",
   "execution_count": 19,
   "metadata": {},
   "outputs": [
    {
     "name": "stdout",
     "output_type": "stream",
     "text": [
      "0.4023483 0.40703574 -3.1395473 -3.1354568\n",
      "0.0046874285 0.0040905476\n"
     ]
    }
   ],
   "source": [
    "x11 = ds_raw[\"x1v\"][0,0]\n",
    "x12 = ds_raw[\"x1v\"][0,1]\n",
    "x21 = ds_raw[\"x2v\"][0,0]\n",
    "x22 = ds_raw[\"x2v\"][0,1]\n",
    "print(x11,x12,x21,x22)\n",
    "dx1 = np.abs(x11-x12)\n",
    "dx2 = np.abs(x21-x22)\n",
    "print(dx1,dx2)"
   ]
  },
  {
   "cell_type": "code",
   "execution_count": 5,
   "metadata": {},
   "outputs": [],
   "source": [
    "q = 5e-5\n",
    "GFx = 0\n",
    "GFy = 0\n",
    "r_excl = 0.0\n",
    "eps = 0.0\n",
    "for imb in range(ds_raw[\"NumMeshBlocks\"]):\n",
    "    x11 = ds_raw[\"x1v\"][imb, 0]\n",
    "    x12 = ds_raw[\"x1v\"][imb, 1]\n",
    "    x21 = ds_raw[\"x2v\"][imb, 0]\n",
    "    x22 = ds_raw[\"x2v\"][imb, 1]\n",
    "    dx1 = np.abs(x11 - x12)\n",
    "    dx2 = np.abs(x21 - x22)\n",
    "    for ix2v in range(ds_raw[\"x2v\"].shape[1]):\n",
    "        for ix1v in range(ds_raw[\"x1v\"].shape[1]):\n",
    "            x1 = ds_raw[\"x1v\"][imb, ix1v]\n",
    "            x2 = ds_raw[\"x2v\"][imb, ix2v]\n",
    "            sig = ds_raw[\"dens\"][imb, 0, ix2v, ix1v]\n",
    "            dA = x1 * dx1 * dx2\n",
    "            dm = sig * dA\n",
    "            x = x1 * np.cos(x2)\n",
    "            y = x1 * np.sin(x2)\n",
    "            rsecn = np.sqrt(x1**2 + 1 - 2 * x1 * np.cos(x2))\n",
    "            rsoft = np.sqrt(rsecn**2 + eps**2)\n",
    "            GF = dm*q/rsoft/rsoft/rsoft\n",
    "            if rsecn > r_excl:\n",
    "                GFy += GF*y\n",
    "                GFx += GF*(x-1)"
   ]
  },
  {
   "cell_type": "code",
   "execution_count": 6,
   "metadata": {},
   "outputs": [
    {
     "data": {
      "text/plain": [
       "2.7158832563096498e-06"
      ]
     },
     "execution_count": 6,
     "metadata": {},
     "output_type": "execute_result"
    }
   ],
   "source": [
    "GFy"
   ]
  },
  {
   "cell_type": "code",
   "execution_count": 7,
   "metadata": {},
   "outputs": [
    {
     "ename": "KeyboardInterrupt",
     "evalue": "",
     "output_type": "error",
     "traceback": [
      "\u001b[0;31m---------------------------------------------------------------------------\u001b[0m",
      "\u001b[0;31mKeyboardInterrupt\u001b[0m                         Traceback (most recent call last)",
      "\u001b[0;32m<ipython-input-7-a396c8917854>\u001b[0m in \u001b[0;36m<module>\u001b[0;34m()\u001b[0m\n\u001b[1;32m      1\u001b[0m \u001b[0mfile\u001b[0m \u001b[0;34m=\u001b[0m \u001b[0;34m\"/home/astrosun/jtlaune/Type1BCs/type1_rst_acc/ppd_cyl.hst\"\u001b[0m\u001b[0;34m\u001b[0m\u001b[0m\n\u001b[0;32m----> 2\u001b[0;31m \u001b[0mhst\u001b[0m \u001b[0;34m=\u001b[0m \u001b[0mnp\u001b[0m\u001b[0;34m.\u001b[0m\u001b[0mloadtxt\u001b[0m\u001b[0;34m(\u001b[0m\u001b[0mfile\u001b[0m\u001b[0;34m)\u001b[0m\u001b[0;34m\u001b[0m\u001b[0m\n\u001b[0m",
      "\u001b[0;32m/home/astrosun/rixinli/opt/ana_exo2a/lib/python3.7/site-packages/numpy/lib/npyio.py\u001b[0m in \u001b[0;36mloadtxt\u001b[0;34m(fname, dtype, comments, delimiter, converters, skiprows, usecols, unpack, ndmin, encoding)\u001b[0m\n\u001b[1;32m   1099\u001b[0m         \u001b[0;31m# converting the data\u001b[0m\u001b[0;34m\u001b[0m\u001b[0;34m\u001b[0m\u001b[0m\n\u001b[1;32m   1100\u001b[0m         \u001b[0mX\u001b[0m \u001b[0;34m=\u001b[0m \u001b[0;32mNone\u001b[0m\u001b[0;34m\u001b[0m\u001b[0m\n\u001b[0;32m-> 1101\u001b[0;31m         \u001b[0;32mfor\u001b[0m \u001b[0mx\u001b[0m \u001b[0;32min\u001b[0m \u001b[0mread_data\u001b[0m\u001b[0;34m(\u001b[0m\u001b[0m_loadtxt_chunksize\u001b[0m\u001b[0;34m)\u001b[0m\u001b[0;34m:\u001b[0m\u001b[0;34m\u001b[0m\u001b[0m\n\u001b[0m\u001b[1;32m   1102\u001b[0m             \u001b[0;32mif\u001b[0m \u001b[0mX\u001b[0m \u001b[0;32mis\u001b[0m \u001b[0;32mNone\u001b[0m\u001b[0;34m:\u001b[0m\u001b[0;34m\u001b[0m\u001b[0m\n\u001b[1;32m   1103\u001b[0m                 \u001b[0mX\u001b[0m \u001b[0;34m=\u001b[0m \u001b[0mnp\u001b[0m\u001b[0;34m.\u001b[0m\u001b[0marray\u001b[0m\u001b[0;34m(\u001b[0m\u001b[0mx\u001b[0m\u001b[0;34m,\u001b[0m \u001b[0mdtype\u001b[0m\u001b[0;34m)\u001b[0m\u001b[0;34m\u001b[0m\u001b[0m\n",
      "\u001b[0;32m/home/astrosun/rixinli/opt/ana_exo2a/lib/python3.7/site-packages/numpy/lib/npyio.py\u001b[0m in \u001b[0;36mread_data\u001b[0;34m(chunk_size)\u001b[0m\n\u001b[1;32m   1016\u001b[0m         \u001b[0;32mfor\u001b[0m \u001b[0mi\u001b[0m\u001b[0;34m,\u001b[0m \u001b[0mline\u001b[0m \u001b[0;32min\u001b[0m \u001b[0menumerate\u001b[0m\u001b[0;34m(\u001b[0m\u001b[0mitertools\u001b[0m\u001b[0;34m.\u001b[0m\u001b[0mchain\u001b[0m\u001b[0;34m(\u001b[0m\u001b[0;34m[\u001b[0m\u001b[0mfirst_line\u001b[0m\u001b[0;34m]\u001b[0m\u001b[0;34m,\u001b[0m \u001b[0mfh\u001b[0m\u001b[0;34m)\u001b[0m\u001b[0;34m)\u001b[0m\u001b[0;34m:\u001b[0m\u001b[0;34m\u001b[0m\u001b[0m\n\u001b[1;32m   1017\u001b[0m             \u001b[0mvals\u001b[0m \u001b[0;34m=\u001b[0m \u001b[0msplit_line\u001b[0m\u001b[0;34m(\u001b[0m\u001b[0mline\u001b[0m\u001b[0;34m)\u001b[0m\u001b[0;34m\u001b[0m\u001b[0m\n\u001b[0;32m-> 1018\u001b[0;31m             \u001b[0;32mif\u001b[0m \u001b[0mlen\u001b[0m\u001b[0;34m(\u001b[0m\u001b[0mvals\u001b[0m\u001b[0;34m)\u001b[0m \u001b[0;34m==\u001b[0m \u001b[0;36m0\u001b[0m\u001b[0;34m:\u001b[0m\u001b[0;34m\u001b[0m\u001b[0m\n\u001b[0m\u001b[1;32m   1019\u001b[0m                 \u001b[0;32mcontinue\u001b[0m\u001b[0;34m\u001b[0m\u001b[0m\n\u001b[1;32m   1020\u001b[0m             \u001b[0;32mif\u001b[0m \u001b[0musecols\u001b[0m\u001b[0;34m:\u001b[0m\u001b[0;34m\u001b[0m\u001b[0m\n",
      "\u001b[0;31mKeyboardInterrupt\u001b[0m: "
     ]
    }
   ],
   "source": [
    "file = \"/home/astrosun/jtlaune/Type1BCs/type1_rst_acc/ppd_cyl.hst\"\n",
    "hst = np.loadtxt(file)"
   ]
  },
  {
   "cell_type": "code",
   "execution_count": null,
   "metadata": {},
   "outputs": [],
   "source": []
  }
 ],
 "metadata": {
  "kernelspec": {
   "display_name": "Python 3",
   "language": "python",
   "name": "python3"
  },
  "language_info": {
   "codemirror_mode": {
    "name": "ipython",
    "version": 3
   },
   "file_extension": ".py",
   "mimetype": "text/x-python",
   "name": "python",
   "nbconvert_exporter": "python",
   "pygments_lexer": "ipython3",
   "version": "3.11.3"
  }
 },
 "nbformat": 4,
 "nbformat_minor": 2
}
